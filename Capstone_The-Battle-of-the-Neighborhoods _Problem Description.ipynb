{
 "cells": [
  {
   "cell_type": "markdown",
   "metadata": {
    "collapsed": true
   },
   "source": [
    "# Capstone Project - The Battle of the Neighborhoods (Week 2)\n",
    "### Recommender System for Supermarket Dealer to build Warehouse\n",
    "#### Anandhavalli Muniasamy\n",
    "#### May 15, 2019\n"
   ]
  },
  {
   "cell_type": "markdown",
   "metadata": {},
   "source": [
    "## Table of contents\n",
    "* [Introduction: Business Problem](#introduction)\n",
    "* [Data](#data)\n"
   ]
  },
  {
   "cell_type": "markdown",
   "metadata": {},
   "source": [
    "\n",
    "## Introduction: Business Problem <a name=\"introduction\"></a>"
   ]
  },
  {
   "cell_type": "markdown",
   "metadata": {},
   "source": [
    "### 1.\tIntroduction\n",
    "Recommender systems are ending up being an essential business tool in e-commerce, as more and more companies are implementing this function into their website. Recommender systems usually are kinds of collective filtering that include predictive designs, heuristic search, data collection, user interaction and design upkeep. The system generally has to be upgraded regularly with recently added ratings, products and users. In shorts a recommender system is an information filtering technology created to figure out choices that are most likely to the customer’s tastes. After the best items have been determined they are recommended to the user. Recommender systems connect with users on their choices and form a profile of each customer typically based upon scores of items. The various profiles are compared with each other with aid of an algorithm and are utilized to quote and forecast the items that are most likely to the user’s tastes. Simply put recommender systems are a kind of heuristic search that uses gathered and stored information of users and or choices to predicts and suggest what items users will like.\n",
    "\n",
    "### 1.1 Background \n",
    "This project mainly focusses on the supermarket dealer in one of the boroughs of Toronto (Scarborough). This dealer provides places such as: Different types of Restaurants, Bakery, Breakfast Spot, Brewery and Café with fresh and high-quality supermarket products. The dealer wants to build a warehouse for the products which are buy from villagers and farmers inside the borough, so that they will support more customers and also bring better \"Quality of Service\" to the old customers.\n",
    "\n",
    "### 1.2 Problem \n",
    "If the warehouse is close to those old and famous restaurants, then the vegetables and other products would be delivered to the restaurant in the right time and there would be no delay so the restaurant cooks can start their job from the morning and the Quality of Service will be high and this contractor will gain more reputation and income. \n",
    "The problem here is how to find the best place for building the warehouse neighbourhood? \n",
    "\n",
    "### 1.3 Aim \n",
    "This project aims to help the dealers to find the nearest place of the warehouse to its customers in order to minimize the cost of transportation, which neighbourhood (particularly Scarborough) would be a better choice for the dealer to build the warehouse in that neighbourhood.\n"
   ]
  },
  {
   "cell_type": "code",
   "execution_count": null,
   "metadata": {},
   "outputs": [],
   "source": []
  }
 ],
 "metadata": {
  "kernelspec": {
   "display_name": "Python 3",
   "language": "python",
   "name": "python3"
  },
  "language_info": {
   "codemirror_mode": {
    "name": "ipython",
    "version": 3
   },
   "file_extension": ".py",
   "mimetype": "text/x-python",
   "name": "python",
   "nbconvert_exporter": "python",
   "pygments_lexer": "ipython3",
   "version": "3.7.3"
  }
 },
 "nbformat": 4,
 "nbformat_minor": 1
}
