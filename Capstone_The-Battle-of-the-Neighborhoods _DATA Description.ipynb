{
 "cells": [
  {
   "cell_type": "markdown",
   "metadata": {
    "collapsed": true
   },
   "source": [
    "# Capstone Project - The Battle of the Neighborhoods (Week 2)\n",
    "### Recommender System for Supermarket Dealer to build Warehouse\n",
    "#### Anandhavalli Muniasamy\n",
    "#### May 15, 2019\n"
   ]
  },
  {
   "cell_type": "markdown",
   "metadata": {},
   "source": [
    "## Table of contents\n",
    "* [Introduction: Business Problem](#introduction)\n",
    "* [Data](#data)\n"
   ]
  },
  {
   "cell_type": "markdown",
   "metadata": {},
   "source": [
    "\n",
    "## DATA Section <a name=\"introduction\"></a>"
   ]
  },
  {
   "cell_type": "markdown",
   "metadata": {},
   "source": [
    "### 1.\tData Description\n",
    "\n",
    "Data that might contribute to building recommender system for supermarket dealer include : \n",
    "1- Geo-locational information about that specific borough and the neighbourhoods in that borough which comprises the latitude and longitude numbers of that borough. In this project,, it is assumed that it is \"Scarborough\" in Toronto. This is easily provided for us by the dealer because the dealer has already made up his mind about the borough. The Postal Codes that fall into that borough (Scarborough) would also be sufficient for this analysis. In fact, we will first find neighborhoods inside Scarborough by their corresponding Postal Codes.\n",
    "2- Data about different venues in different neighborhoods of that specific borough. In order to gain that information, \"Foursquare\" locational information will be useful. By locational information for each venue, it means basic and advanced information about that venue. As basic information, we can obtain its precise latitude and longitude and also its distance from the centre of the neighborhood. But we are looking for advanced information such as the category of that venue and whether this venue is a popular one in its category or maybe the average price of the services of this venue. A typical request from Foursquare will provide us with the following information:\n",
    "\n",
    "\n",
    "### 2. Data Source \n",
    "\n",
    "#### •Dataset 1: \n",
    "Postal Codes of different regions inside Scarborough to find the list of neighborhoods. The dataset will be consider from https://en.wikipedia.org/wiki/List_of_postal_codes_of_Canada:_M. \n",
    "\n",
    "#### •Dataset 2: \n",
    "The data about different venues in different neighborhoods of that specific borough will be collected from \"Foursquare\" locational information (https://foursquare.com/). Foursquare is a local search-and-discovery service mobile app which provides search results for its users (Wikipedia). A typical request from Foursquare will provide us with the following information:\n",
    "[Postal Code] [Neighborhood(s)] [Neighborhood Latitude] [Neighborhood Longitude] [Venue] [Venue Summary] [Venue Category] [Distance (meter)]\n",
    "\n",
    "\n"
   ]
  },
  {
   "cell_type": "code",
   "execution_count": null,
   "metadata": {},
   "outputs": [],
   "source": []
  }
 ],
 "metadata": {
  "kernelspec": {
   "display_name": "Python 3",
   "language": "python",
   "name": "python3"
  },
  "language_info": {
   "codemirror_mode": {
    "name": "ipython",
    "version": 3
   },
   "file_extension": ".py",
   "mimetype": "text/x-python",
   "name": "python",
   "nbconvert_exporter": "python",
   "pygments_lexer": "ipython3",
   "version": "3.7.3"
  }
 },
 "nbformat": 4,
 "nbformat_minor": 1
}
