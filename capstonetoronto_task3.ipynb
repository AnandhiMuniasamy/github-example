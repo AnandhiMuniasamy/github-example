{
 "cells": [
  {
   "cell_type": "markdown",
   "metadata": {},
   "source": [
    "# Toronto Neighborhood Cluster Analysis"
   ]
  },
  {
   "cell_type": "raw",
   "metadata": {},
   "source": [
    "# The Neighborhoods of Toronto are Clusterd by the simalarity of the venues present in the neighborhood. The venues varies from college/ university to hospitals and art exhibiton to hotels etc.Click here for more information on the Venues. This data is fetched from Forsquare, is a local search-and-discovery mobile app which provides search results for its users. The app provides personalized recommendations of places to go near a user's current location based on users' previous browsing history and check-in history"
   ]
  },
  {
   "cell_type": "code",
   "execution_count": 3,
   "metadata": {},
   "outputs": [],
   "source": [
    "#Loading Data\n",
    "\n",
    "import pandas as pd\n",
    "import requests\n",
    "from bs4 import BeautifulSoup"
   ]
  },
  {
   "cell_type": "raw",
   "metadata": {},
   "source": [
    "The neighborhoods list can be found here. This information can be utilised to group the neighborhoods into boroughs to measure the similarity of the boroughs also."
   ]
  },
  {
   "cell_type": "code",
   "execution_count": 2,
   "metadata": {},
   "outputs": [
    {
     "name": "stdout",
     "output_type": "stream",
     "text": [
      "Fetching Data From:\n",
      " https://en.wikipedia.org/wiki/List_of_postal_codes_of_Canada:_M \n",
      "========================\n",
      "Completed\n"
     ]
    }
   ],
   "source": [
    "url=\"https://en.wikipedia.org/wiki/List_of_postal_codes_of_Canada:_M\"\n",
    "print(\"Fetching Data From:\\n\",url,\"\\n========================\")\n",
    "source=requests.get(url).text\n",
    "print(\"Completed\")"
   ]
  },
  {
   "cell_type": "code",
   "execution_count": 4,
   "metadata": {},
   "outputs": [
    {
     "data": {
      "text/html": [
       "<div>\n",
       "<style scoped>\n",
       "    .dataframe tbody tr th:only-of-type {\n",
       "        vertical-align: middle;\n",
       "    }\n",
       "\n",
       "    .dataframe tbody tr th {\n",
       "        vertical-align: top;\n",
       "    }\n",
       "\n",
       "    .dataframe thead th {\n",
       "        text-align: right;\n",
       "    }\n",
       "</style>\n",
       "<table border=\"1\" class=\"dataframe\">\n",
       "  <thead>\n",
       "    <tr style=\"text-align: right;\">\n",
       "      <th></th>\n",
       "      <th>pcode</th>\n",
       "      <th>borough</th>\n",
       "      <th>neighborhood</th>\n",
       "    </tr>\n",
       "  </thead>\n",
       "  <tbody>\n",
       "    <tr>\n",
       "      <th>0</th>\n",
       "      <td>M1A</td>\n",
       "      <td>Not assigned</td>\n",
       "      <td>Not assigned\\n</td>\n",
       "    </tr>\n",
       "    <tr>\n",
       "      <th>1</th>\n",
       "      <td>M2A</td>\n",
       "      <td>Not assigned</td>\n",
       "      <td>Not assigned\\n</td>\n",
       "    </tr>\n",
       "    <tr>\n",
       "      <th>2</th>\n",
       "      <td>M3A</td>\n",
       "      <td>North York</td>\n",
       "      <td>Parkwoods\\n</td>\n",
       "    </tr>\n",
       "    <tr>\n",
       "      <th>3</th>\n",
       "      <td>M4A</td>\n",
       "      <td>North York</td>\n",
       "      <td>Victoria Village\\n</td>\n",
       "    </tr>\n",
       "    <tr>\n",
       "      <th>4</th>\n",
       "      <td>M5A</td>\n",
       "      <td>Downtown Toronto</td>\n",
       "      <td>Harbourfront\\n</td>\n",
       "    </tr>\n",
       "  </tbody>\n",
       "</table>\n",
       "</div>"
      ],
      "text/plain": [
       "  pcode           borough        neighborhood\n",
       "0   M1A      Not assigned      Not assigned\\n\n",
       "1   M2A      Not assigned      Not assigned\\n\n",
       "2   M3A        North York         Parkwoods\\n\n",
       "3   M4A        North York  Victoria Village\\n\n",
       "4   M5A  Downtown Toronto      Harbourfront\\n"
      ]
     },
     "execution_count": 4,
     "metadata": {},
     "output_type": "execute_result"
    }
   ],
   "source": [
    "soup=BeautifulSoup(source)\n",
    "table=soup.find(\"table\",class_=\"wikitable\").tbody\n",
    "#print(table.prettify())\n",
    "rows=table.find_all(\"tr\")\n",
    "l=[]\n",
    "for row in rows:\n",
    "    d=[data.text for data in row.find_all(\"td\")]\n",
    "    if len(d)>0:\n",
    "        l.append(d)\n",
    "df=pd.DataFrame(l)\n",
    "df.columns=[\"pcode\",\"borough\",\"neighborhood\"]\n",
    "df.head()"
   ]
  },
  {
   "cell_type": "markdown",
   "metadata": {},
   "source": [
    "#Cleaning Data\n",
    "Making sure that the data is clean and can be used for further analysis."
   ]
  },
  {
   "cell_type": "code",
   "execution_count": 5,
   "metadata": {},
   "outputs": [
    {
     "data": {
      "text/html": [
       "<div>\n",
       "<style scoped>\n",
       "    .dataframe tbody tr th:only-of-type {\n",
       "        vertical-align: middle;\n",
       "    }\n",
       "\n",
       "    .dataframe tbody tr th {\n",
       "        vertical-align: top;\n",
       "    }\n",
       "\n",
       "    .dataframe thead th {\n",
       "        text-align: right;\n",
       "    }\n",
       "</style>\n",
       "<table border=\"1\" class=\"dataframe\">\n",
       "  <thead>\n",
       "    <tr style=\"text-align: right;\">\n",
       "      <th></th>\n",
       "      <th>pcode</th>\n",
       "      <th>borough</th>\n",
       "      <th>neighborhood</th>\n",
       "    </tr>\n",
       "  </thead>\n",
       "  <tbody>\n",
       "    <tr>\n",
       "      <th>0</th>\n",
       "      <td>M1B</td>\n",
       "      <td>Scarborough</td>\n",
       "      <td>Rouge, Malvern</td>\n",
       "    </tr>\n",
       "    <tr>\n",
       "      <th>1</th>\n",
       "      <td>M1C</td>\n",
       "      <td>Scarborough</td>\n",
       "      <td>Highland Creek, Rouge Hill, Port Union</td>\n",
       "    </tr>\n",
       "    <tr>\n",
       "      <th>2</th>\n",
       "      <td>M1E</td>\n",
       "      <td>Scarborough</td>\n",
       "      <td>Guildwood, Morningside, West Hill</td>\n",
       "    </tr>\n",
       "    <tr>\n",
       "      <th>3</th>\n",
       "      <td>M1G</td>\n",
       "      <td>Scarborough</td>\n",
       "      <td>Woburn</td>\n",
       "    </tr>\n",
       "    <tr>\n",
       "      <th>4</th>\n",
       "      <td>M1H</td>\n",
       "      <td>Scarborough</td>\n",
       "      <td>Cedarbrae</td>\n",
       "    </tr>\n",
       "  </tbody>\n",
       "</table>\n",
       "</div>"
      ],
      "text/plain": [
       "  pcode      borough                            neighborhood\n",
       "0   M1B  Scarborough                          Rouge, Malvern\n",
       "1   M1C  Scarborough  Highland Creek, Rouge Hill, Port Union\n",
       "2   M1E  Scarborough       Guildwood, Morningside, West Hill\n",
       "3   M1G  Scarborough                                  Woburn\n",
       "4   M1H  Scarborough                               Cedarbrae"
      ]
     },
     "execution_count": 5,
     "metadata": {},
     "output_type": "execute_result"
    }
   ],
   "source": [
    "df.neighborhood=df.neighborhood.str.replace(\"\\\\\\n\",\"\")\n",
    "df=df[df.borough!=\"Not assigned\"]\n",
    "df=df.groupby([\"pcode\",\"borough\"])[\"neighborhood\"].apply(lambda x:\", \".join(x)).reset_index()\n",
    "df.loc[df.neighborhood==\"Not assigned\",[\"neighborhood\"]]=df.loc[df.neighborhood==\"Not assigned\"].borough\n",
    "df.head()"
   ]
  },
  {
   "cell_type": "code",
   "execution_count": 7,
   "metadata": {},
   "outputs": [
    {
     "data": {
      "text/plain": [
       "['East Toronto', 'Central Toronto', 'Downtown Toronto', 'West Toronto']"
      ]
     },
     "execution_count": 7,
     "metadata": {},
     "output_type": "execute_result"
    }
   ],
   "source": [
    "l_br=[]\n",
    "for br in df.borough.unique():\n",
    "    if \"Toronto\" in br:\n",
    "        l_br.append(br)\n",
    "l_br"
   ]
  },
  {
   "cell_type": "code",
   "execution_count": 8,
   "metadata": {},
   "outputs": [],
   "source": [
    "df_tor=df[((df[\"borough\"]==l_br[0])|(df[\"borough\"]==l_br[1])|(df[\"borough\"]==l_br[2])|(df[\"borough\"]==l_br[3]))].reset_index(drop=True)"
   ]
  },
  {
   "cell_type": "code",
   "execution_count": 10,
   "metadata": {},
   "outputs": [
    {
     "data": {
      "text/html": [
       "<div>\n",
       "<style scoped>\n",
       "    .dataframe tbody tr th:only-of-type {\n",
       "        vertical-align: middle;\n",
       "    }\n",
       "\n",
       "    .dataframe tbody tr th {\n",
       "        vertical-align: top;\n",
       "    }\n",
       "\n",
       "    .dataframe thead th {\n",
       "        text-align: right;\n",
       "    }\n",
       "</style>\n",
       "<table border=\"1\" class=\"dataframe\">\n",
       "  <thead>\n",
       "    <tr style=\"text-align: right;\">\n",
       "      <th></th>\n",
       "      <th>Postal Code</th>\n",
       "      <th>Latitude</th>\n",
       "      <th>Longitude</th>\n",
       "    </tr>\n",
       "  </thead>\n",
       "  <tbody>\n",
       "    <tr>\n",
       "      <th>0</th>\n",
       "      <td>M1B</td>\n",
       "      <td>43.806686</td>\n",
       "      <td>-79.194353</td>\n",
       "    </tr>\n",
       "    <tr>\n",
       "      <th>1</th>\n",
       "      <td>M1C</td>\n",
       "      <td>43.784535</td>\n",
       "      <td>-79.160497</td>\n",
       "    </tr>\n",
       "    <tr>\n",
       "      <th>2</th>\n",
       "      <td>M1E</td>\n",
       "      <td>43.763573</td>\n",
       "      <td>-79.188711</td>\n",
       "    </tr>\n",
       "    <tr>\n",
       "      <th>3</th>\n",
       "      <td>M1G</td>\n",
       "      <td>43.770992</td>\n",
       "      <td>-79.216917</td>\n",
       "    </tr>\n",
       "    <tr>\n",
       "      <th>4</th>\n",
       "      <td>M1H</td>\n",
       "      <td>43.773136</td>\n",
       "      <td>-79.239476</td>\n",
       "    </tr>\n",
       "  </tbody>\n",
       "</table>\n",
       "</div>"
      ],
      "text/plain": [
       "  Postal Code   Latitude  Longitude\n",
       "0         M1B  43.806686 -79.194353\n",
       "1         M1C  43.784535 -79.160497\n",
       "2         M1E  43.763573 -79.188711\n",
       "3         M1G  43.770992 -79.216917\n",
       "4         M1H  43.773136 -79.239476"
      ]
     },
     "execution_count": 10,
     "metadata": {},
     "output_type": "execute_result"
    }
   ],
   "source": [
    "tor_geo=pd.read_csv(\"http://cocl.us/Geospatial_data/Geospatial_Coordinates.csv\")\n",
    "tor_geo.head()"
   ]
  },
  {
   "cell_type": "code",
   "execution_count": 11,
   "metadata": {},
   "outputs": [
    {
     "data": {
      "text/html": [
       "<div>\n",
       "<style scoped>\n",
       "    .dataframe tbody tr th:only-of-type {\n",
       "        vertical-align: middle;\n",
       "    }\n",
       "\n",
       "    .dataframe tbody tr th {\n",
       "        vertical-align: top;\n",
       "    }\n",
       "\n",
       "    .dataframe thead th {\n",
       "        text-align: right;\n",
       "    }\n",
       "</style>\n",
       "<table border=\"1\" class=\"dataframe\">\n",
       "  <thead>\n",
       "    <tr style=\"text-align: right;\">\n",
       "      <th></th>\n",
       "      <th>pcode</th>\n",
       "      <th>borough</th>\n",
       "      <th>neighborhood</th>\n",
       "      <th>Latitude</th>\n",
       "      <th>Longitude</th>\n",
       "    </tr>\n",
       "  </thead>\n",
       "  <tbody>\n",
       "    <tr>\n",
       "      <th>0</th>\n",
       "      <td>M4E</td>\n",
       "      <td>East Toronto</td>\n",
       "      <td>The Beaches</td>\n",
       "      <td>43.676357</td>\n",
       "      <td>-79.293031</td>\n",
       "    </tr>\n",
       "    <tr>\n",
       "      <th>1</th>\n",
       "      <td>M4K</td>\n",
       "      <td>East Toronto</td>\n",
       "      <td>The Danforth West, Riverdale</td>\n",
       "      <td>43.679557</td>\n",
       "      <td>-79.352188</td>\n",
       "    </tr>\n",
       "    <tr>\n",
       "      <th>2</th>\n",
       "      <td>M4L</td>\n",
       "      <td>East Toronto</td>\n",
       "      <td>The Beaches West, India Bazaar</td>\n",
       "      <td>43.668999</td>\n",
       "      <td>-79.315572</td>\n",
       "    </tr>\n",
       "    <tr>\n",
       "      <th>3</th>\n",
       "      <td>M4M</td>\n",
       "      <td>East Toronto</td>\n",
       "      <td>Studio District</td>\n",
       "      <td>43.659526</td>\n",
       "      <td>-79.340923</td>\n",
       "    </tr>\n",
       "    <tr>\n",
       "      <th>4</th>\n",
       "      <td>M4N</td>\n",
       "      <td>Central Toronto</td>\n",
       "      <td>Lawrence Park</td>\n",
       "      <td>43.728020</td>\n",
       "      <td>-79.388790</td>\n",
       "    </tr>\n",
       "  </tbody>\n",
       "</table>\n",
       "</div>"
      ],
      "text/plain": [
       "  pcode          borough                    neighborhood   Latitude  Longitude\n",
       "0   M4E     East Toronto                     The Beaches  43.676357 -79.293031\n",
       "1   M4K     East Toronto    The Danforth West, Riverdale  43.679557 -79.352188\n",
       "2   M4L     East Toronto  The Beaches West, India Bazaar  43.668999 -79.315572\n",
       "3   M4M     East Toronto                 Studio District  43.659526 -79.340923\n",
       "4   M4N  Central Toronto                   Lawrence Park  43.728020 -79.388790"
      ]
     },
     "execution_count": 11,
     "metadata": {},
     "output_type": "execute_result"
    }
   ],
   "source": [
    "tor=df_tor.merge(tor_geo,left_on=\"pcode\",right_on=\"Postal Code\").drop(\"Postal Code\",1)\n",
    "tor.head()"
   ]
  },
  {
   "cell_type": "code",
   "execution_count": 12,
   "metadata": {},
   "outputs": [
    {
     "name": "stdout",
     "output_type": "stream",
     "text": [
      "There are 38 postal codes.\n"
     ]
    }
   ],
   "source": [
    "print(\"There are {} postal codes.\".format(tor.shape[0]))"
   ]
  },
  {
   "cell_type": "markdown",
   "metadata": {},
   "source": [
    "# Displaying Map"
   ]
  },
  {
   "cell_type": "code",
   "execution_count": 14,
   "metadata": {},
   "outputs": [],
   "source": [
    "import folium\n",
    "import matplotlib.pyplot as plt"
   ]
  },
  {
   "cell_type": "code",
   "execution_count": 15,
   "metadata": {},
   "outputs": [
    {
     "data": {
      "text/html": [
       "<div style=\"width:100%;\"><div style=\"position:relative;width:100%;height:0;padding-bottom:60%;\"><iframe src=\"data:text/html;charset=utf-8;base64,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\" style=\"position:absolute;width:100%;height:100%;left:0;top:0;border:none !important;\" allowfullscreen webkitallowfullscreen mozallowfullscreen></iframe></div></div>"
      ],
      "text/plain": [
       "<folium.folium.Map at 0xae7efd0>"
      ]
     },
     "execution_count": 15,
     "metadata": {},
     "output_type": "execute_result"
    }
   ],
   "source": [
    "map=folium.Map(location=[tor.Latitude.mean(),tor.Longitude.mean()],zoom_start=12)\n",
    "# add markers\n",
    "for lat,lng,pin in zip(tor.Latitude,tor.Longitude,tor.pcode):\n",
    "    folium.CircleMarker(\n",
    "        [lat,lng],\n",
    "        radius=5,\n",
    "        color=\"green\",\n",
    "        fill_opacity=.4, fill=True).add_to(map)\n",
    "\n",
    "# display\n",
    "map"
   ]
  },
  {
   "cell_type": "raw",
   "metadata": {},
   "source": [
    "# These are the Neighbourhoods of the Boroughs Containing \"Toronto\" in the city Toronto:\n",
    "\n",
    "East Toronto\n",
    "Central Toronto\n",
    "West Toronto\n",
    "Downtown Toronto"
   ]
  },
  {
   "cell_type": "markdown",
   "metadata": {},
   "source": [
    "## Collecting Data from FourSquare"
   ]
  },
  {
   "cell_type": "code",
   "execution_count": null,
   "metadata": {},
   "outputs": [],
   "source": [
    "#By using the API, the program can fetch JSON data from Foursquare. By giving in the latitude and longitude as the input to the API, it returns the number of specified venues nearby the location of interest within the range specified."
   ]
  },
  {
   "cell_type": "code",
   "execution_count": 16,
   "metadata": {},
   "outputs": [],
   "source": [
    "from geopy.geocoders import Nominatim\n",
    "import json\n",
    "from pandas.io.json import json_normalize"
   ]
  },
  {
   "cell_type": "raw",
   "metadata": {},
   "source": [
    "#Change the c_id and c_sec as per the credintials of Foursquare account. Initailze the following:\n",
    "\n",
    "c_id : Client ID\n",
    "c_sec : Client Secret\n",
    "limit : the maximum number of venues to be returned\n",
    "rad : the venues within the radius are returned.\n"
   ]
  },
  {
   "cell_type": "code",
   "execution_count": 18,
   "metadata": {},
   "outputs": [
    {
     "name": "stdout",
     "output_type": "stream",
     "text": [
      "2.63% completed\n",
      "5.26% completed\n",
      "7.89% completed\n",
      "10.53% completed\n",
      "13.16% completed\n",
      "15.79% completed\n",
      "18.42% completed\n",
      "21.05% completed\n",
      "23.68% completed\n",
      "26.32% completed\n",
      "28.95% completed\n",
      "31.58% completed\n",
      "34.21% completed\n",
      "36.84% completed\n",
      "39.47% completed\n",
      "42.11% completed\n",
      "44.74% completed\n",
      "47.37% completed\n",
      "50.0% completed\n",
      "52.63% completed\n",
      "55.26% completed\n",
      "57.89% completed\n",
      "60.53% completed\n",
      "63.16% completed\n",
      "65.79% completed\n",
      "68.42% completed\n",
      "71.05% completed\n",
      "73.68% completed\n",
      "76.32% completed\n",
      "78.95% completed\n",
      "81.58% completed\n",
      "84.21% completed\n",
      "86.84% completed\n",
      "89.47% completed\n",
      "92.11% completed\n",
      "94.74% completed\n",
      "97.37% completed\n",
      "100.0% completed\n"
     ]
    },
    {
     "data": {
      "text/plain": [
       "(2436, 2)"
      ]
     },
     "execution_count": 18,
     "metadata": {},
     "output_type": "execute_result"
    }
   ],
   "source": [
    "c_id=\"NGF2VI0HCJOT2D1QRURBH2RNG2ISGEYF3OMTLAYQGE4TBFIP\"\n",
    "c_sec=\"5VQ1VDBBUWNYAYZZFGS341CBGDYEXLUCOBSTHL3XGZ2L1MNQ\"\n",
    "rad=700\n",
    "limit=100\n",
    "i=len(tor.pcode)   # total number of api requests\n",
    "count=1            # keeping count of how many finished\n",
    "l=[]\n",
    "for code,lat,lng in zip(tor.pcode,tor.Latitude,tor.Longitude):\n",
    "    res=None\n",
    "    api=\"https://api.foursquare.com/v2/venues/explore?client_id={}&client_secret={}&v=20181218&ll={},{}&radius={}&limit={}\"\n",
    "    api=api.format(c_id,c_sec,lat,lng,rad,limit)\n",
    "    response=requests.get(api)\n",
    "    res=response.json()['response']['groups'][0]['items']\n",
    "    for ite in res:\n",
    "        l.append([code,ite[\"venue\"][\"categories\"][0][\"name\"]])\n",
    "    print(\"{}% completed\".format(round(count/i*100,2)))\n",
    "    count+=1\n",
    "longdf=pd.DataFrame(l)\n",
    "longdf.columns=[\"pcode\",\"category\"]\n",
    "longdf.shape"
   ]
  },
  {
   "cell_type": "code",
   "execution_count": 20,
   "metadata": {},
   "outputs": [
    {
     "data": {
      "text/html": [
       "<div>\n",
       "<style scoped>\n",
       "    .dataframe tbody tr th:only-of-type {\n",
       "        vertical-align: middle;\n",
       "    }\n",
       "\n",
       "    .dataframe tbody tr th {\n",
       "        vertical-align: top;\n",
       "    }\n",
       "\n",
       "    .dataframe thead th {\n",
       "        text-align: right;\n",
       "    }\n",
       "</style>\n",
       "<table border=\"1\" class=\"dataframe\">\n",
       "  <thead>\n",
       "    <tr style=\"text-align: right;\">\n",
       "      <th></th>\n",
       "      <th>pcode</th>\n",
       "      <th>category</th>\n",
       "    </tr>\n",
       "  </thead>\n",
       "  <tbody>\n",
       "    <tr>\n",
       "      <th>0</th>\n",
       "      <td>M4E</td>\n",
       "      <td>Vegetarian / Vegan Restaurant</td>\n",
       "    </tr>\n",
       "    <tr>\n",
       "      <th>1</th>\n",
       "      <td>M4E</td>\n",
       "      <td>Gastropub</td>\n",
       "    </tr>\n",
       "    <tr>\n",
       "      <th>2</th>\n",
       "      <td>M4E</td>\n",
       "      <td>Indie Movie Theater</td>\n",
       "    </tr>\n",
       "    <tr>\n",
       "      <th>3</th>\n",
       "      <td>M4E</td>\n",
       "      <td>Ice Cream Shop</td>\n",
       "    </tr>\n",
       "    <tr>\n",
       "      <th>4</th>\n",
       "      <td>M4E</td>\n",
       "      <td>Bakery</td>\n",
       "    </tr>\n",
       "  </tbody>\n",
       "</table>\n",
       "</div>"
      ],
      "text/plain": [
       "  pcode                       category\n",
       "0   M4E  Vegetarian / Vegan Restaurant\n",
       "1   M4E                      Gastropub\n",
       "2   M4E            Indie Movie Theater\n",
       "3   M4E                 Ice Cream Shop\n",
       "4   M4E                         Bakery"
      ]
     },
     "execution_count": 20,
     "metadata": {},
     "output_type": "execute_result"
    }
   ],
   "source": [
    "longdf.head()"
   ]
  },
  {
   "cell_type": "code",
   "execution_count": 21,
   "metadata": {},
   "outputs": [
    {
     "data": {
      "text/plain": [
       "(2436, 279)"
      ]
     },
     "execution_count": 21,
     "metadata": {},
     "output_type": "execute_result"
    }
   ],
   "source": [
    "dumy=pd.get_dummies(longdf.category,prefix=\"\",prefix_sep=\"\") # spreading the catedories into columns\n",
    "dumy.shape     # check if rows are same as longdf"
   ]
  },
  {
   "cell_type": "code",
   "execution_count": null,
   "metadata": {},
   "outputs": [],
   "source": [
    "#Adding the neighborhood into the spread dataframe and rearranging the columns such that the neighborhood is at the first."
   ]
  },
  {
   "cell_type": "code",
   "execution_count": 22,
   "metadata": {},
   "outputs": [
    {
     "data": {
      "text/html": [
       "<div>\n",
       "<style scoped>\n",
       "    .dataframe tbody tr th:only-of-type {\n",
       "        vertical-align: middle;\n",
       "    }\n",
       "\n",
       "    .dataframe tbody tr th {\n",
       "        vertical-align: top;\n",
       "    }\n",
       "\n",
       "    .dataframe thead th {\n",
       "        text-align: right;\n",
       "    }\n",
       "</style>\n",
       "<table border=\"1\" class=\"dataframe\">\n",
       "  <thead>\n",
       "    <tr style=\"text-align: right;\">\n",
       "      <th></th>\n",
       "      <th>pcode</th>\n",
       "      <th>ATM</th>\n",
       "      <th>Accessories Store</th>\n",
       "      <th>Adult Boutique</th>\n",
       "      <th>Afghan Restaurant</th>\n",
       "      <th>Airport</th>\n",
       "      <th>Airport Food Court</th>\n",
       "      <th>Airport Gate</th>\n",
       "      <th>Airport Lounge</th>\n",
       "      <th>Airport Service</th>\n",
       "      <th>...</th>\n",
       "      <th>Tunnel</th>\n",
       "      <th>University</th>\n",
       "      <th>Vegetarian / Vegan Restaurant</th>\n",
       "      <th>Video Game Store</th>\n",
       "      <th>Video Store</th>\n",
       "      <th>Vietnamese Restaurant</th>\n",
       "      <th>Wine Bar</th>\n",
       "      <th>Wings Joint</th>\n",
       "      <th>Women's Store</th>\n",
       "      <th>Yoga Studio</th>\n",
       "    </tr>\n",
       "  </thead>\n",
       "  <tbody>\n",
       "    <tr>\n",
       "      <th>0</th>\n",
       "      <td>M4E</td>\n",
       "      <td>0</td>\n",
       "      <td>0</td>\n",
       "      <td>0</td>\n",
       "      <td>0</td>\n",
       "      <td>0</td>\n",
       "      <td>0</td>\n",
       "      <td>0</td>\n",
       "      <td>0</td>\n",
       "      <td>0</td>\n",
       "      <td>...</td>\n",
       "      <td>0</td>\n",
       "      <td>0</td>\n",
       "      <td>1</td>\n",
       "      <td>0</td>\n",
       "      <td>0</td>\n",
       "      <td>0</td>\n",
       "      <td>0</td>\n",
       "      <td>0</td>\n",
       "      <td>0</td>\n",
       "      <td>0</td>\n",
       "    </tr>\n",
       "    <tr>\n",
       "      <th>1</th>\n",
       "      <td>M4E</td>\n",
       "      <td>0</td>\n",
       "      <td>0</td>\n",
       "      <td>0</td>\n",
       "      <td>0</td>\n",
       "      <td>0</td>\n",
       "      <td>0</td>\n",
       "      <td>0</td>\n",
       "      <td>0</td>\n",
       "      <td>0</td>\n",
       "      <td>...</td>\n",
       "      <td>0</td>\n",
       "      <td>0</td>\n",
       "      <td>0</td>\n",
       "      <td>0</td>\n",
       "      <td>0</td>\n",
       "      <td>0</td>\n",
       "      <td>0</td>\n",
       "      <td>0</td>\n",
       "      <td>0</td>\n",
       "      <td>0</td>\n",
       "    </tr>\n",
       "  </tbody>\n",
       "</table>\n",
       "<p>2 rows × 280 columns</p>\n",
       "</div>"
      ],
      "text/plain": [
       "  pcode  ATM  Accessories Store  Adult Boutique  Afghan Restaurant  Airport  \\\n",
       "0   M4E    0                  0               0                  0        0   \n",
       "1   M4E    0                  0               0                  0        0   \n",
       "\n",
       "   Airport Food Court  Airport Gate  Airport Lounge  Airport Service  ...  \\\n",
       "0                   0             0               0                0  ...   \n",
       "1                   0             0               0                0  ...   \n",
       "\n",
       "   Tunnel  University  Vegetarian / Vegan Restaurant  Video Game Store  \\\n",
       "0       0           0                              1                 0   \n",
       "1       0           0                              0                 0   \n",
       "\n",
       "   Video Store  Vietnamese Restaurant  Wine Bar  Wings Joint  Women's Store  \\\n",
       "0            0                      0         0            0              0   \n",
       "1            0                      0         0            0              0   \n",
       "\n",
       "   Yoga Studio  \n",
       "0            0  \n",
       "1            0  \n",
       "\n",
       "[2 rows x 280 columns]"
      ]
     },
     "execution_count": 22,
     "metadata": {},
     "output_type": "execute_result"
    }
   ],
   "source": [
    "dumy[\"pcode\"]=longdf.pcode\n",
    "col=[dumy.columns[-1]]+list(dumy.columns[:-1])\n",
    "dumy=dumy[col]\n",
    "dumy.to_csv(\"spread.csv\",index=False)\n",
    "dumy.loc[0:1]"
   ]
  },
  {
   "cell_type": "code",
   "execution_count": null,
   "metadata": {},
   "outputs": [],
   "source": [
    "#Calculating the frequency of a particular category of venue occuring in the neighbourhood. Creating a top10 DataFrame to display the top 10 categories present in each neighborhood."
   ]
  },
  {
   "cell_type": "code",
   "execution_count": 23,
   "metadata": {},
   "outputs": [
    {
     "data": {
      "text/html": [
       "<div>\n",
       "<style scoped>\n",
       "    .dataframe tbody tr th:only-of-type {\n",
       "        vertical-align: middle;\n",
       "    }\n",
       "\n",
       "    .dataframe tbody tr th {\n",
       "        vertical-align: top;\n",
       "    }\n",
       "\n",
       "    .dataframe thead th {\n",
       "        text-align: right;\n",
       "    }\n",
       "</style>\n",
       "<table border=\"1\" class=\"dataframe\">\n",
       "  <thead>\n",
       "    <tr style=\"text-align: right;\">\n",
       "      <th></th>\n",
       "      <th>1st Most Common Venue</th>\n",
       "      <th>2nd Most Common Venue</th>\n",
       "      <th>3rd Most Common Venue</th>\n",
       "      <th>4th Most Common Venue</th>\n",
       "      <th>5th Most Common Venue</th>\n",
       "      <th>6th Most Common Venue</th>\n",
       "      <th>7th Most Common Venue</th>\n",
       "      <th>8th Most Common Venue</th>\n",
       "      <th>9th Most Common Venue</th>\n",
       "      <th>10th Most Common Venue</th>\n",
       "      <th>pcode</th>\n",
       "    </tr>\n",
       "  </thead>\n",
       "  <tbody>\n",
       "    <tr>\n",
       "      <th>0</th>\n",
       "      <td>Pub</td>\n",
       "      <td>Bar</td>\n",
       "      <td>Breakfast Spot</td>\n",
       "      <td>Sandwich Place</td>\n",
       "      <td>Gastropub</td>\n",
       "      <td>Health Food Store</td>\n",
       "      <td>Pizza Place</td>\n",
       "      <td>Café</td>\n",
       "      <td>Shoe Store</td>\n",
       "      <td>Salon / Barbershop</td>\n",
       "      <td>M4E</td>\n",
       "    </tr>\n",
       "    <tr>\n",
       "      <th>1</th>\n",
       "      <td>Greek Restaurant</td>\n",
       "      <td>Coffee Shop</td>\n",
       "      <td>Pub</td>\n",
       "      <td>Grocery Store</td>\n",
       "      <td>Café</td>\n",
       "      <td>Fast Food Restaurant</td>\n",
       "      <td>Ice Cream Shop</td>\n",
       "      <td>Restaurant</td>\n",
       "      <td>Caribbean Restaurant</td>\n",
       "      <td>Bookstore</td>\n",
       "      <td>M4K</td>\n",
       "    </tr>\n",
       "    <tr>\n",
       "      <th>2</th>\n",
       "      <td>Indian Restaurant</td>\n",
       "      <td>Sandwich Place</td>\n",
       "      <td>Coffee Shop</td>\n",
       "      <td>Fast Food Restaurant</td>\n",
       "      <td>Café</td>\n",
       "      <td>Park</td>\n",
       "      <td>Gym</td>\n",
       "      <td>Brewery</td>\n",
       "      <td>Fish &amp; Chips Shop</td>\n",
       "      <td>Snack Place</td>\n",
       "      <td>M4L</td>\n",
       "    </tr>\n",
       "    <tr>\n",
       "      <th>3</th>\n",
       "      <td>Café</td>\n",
       "      <td>Bakery</td>\n",
       "      <td>Coffee Shop</td>\n",
       "      <td>Bar</td>\n",
       "      <td>American Restaurant</td>\n",
       "      <td>Italian Restaurant</td>\n",
       "      <td>Sandwich Place</td>\n",
       "      <td>Latin American Restaurant</td>\n",
       "      <td>Pizza Place</td>\n",
       "      <td>Diner</td>\n",
       "      <td>M4M</td>\n",
       "    </tr>\n",
       "    <tr>\n",
       "      <th>4</th>\n",
       "      <td>Construction &amp; Landscaping</td>\n",
       "      <td>Business Service</td>\n",
       "      <td>Bus Line</td>\n",
       "      <td>Swim School</td>\n",
       "      <td>Park</td>\n",
       "      <td>ATM</td>\n",
       "      <td>Neighborhood</td>\n",
       "      <td>Noodle House</td>\n",
       "      <td>Nightclub</td>\n",
       "      <td>New American Restaurant</td>\n",
       "      <td>M4N</td>\n",
       "    </tr>\n",
       "  </tbody>\n",
       "</table>\n",
       "</div>"
      ],
      "text/plain": [
       "        1st Most Common Venue 2nd Most Common Venue 3rd Most Common Venue  \\\n",
       "0                         Pub                   Bar        Breakfast Spot   \n",
       "1            Greek Restaurant           Coffee Shop                   Pub   \n",
       "2           Indian Restaurant        Sandwich Place           Coffee Shop   \n",
       "3                        Café                Bakery           Coffee Shop   \n",
       "4  Construction & Landscaping      Business Service              Bus Line   \n",
       "\n",
       "  4th Most Common Venue 5th Most Common Venue 6th Most Common Venue  \\\n",
       "0        Sandwich Place             Gastropub     Health Food Store   \n",
       "1         Grocery Store                  Café  Fast Food Restaurant   \n",
       "2  Fast Food Restaurant                  Café                  Park   \n",
       "3                   Bar   American Restaurant    Italian Restaurant   \n",
       "4           Swim School                  Park                   ATM   \n",
       "\n",
       "  7th Most Common Venue      8th Most Common Venue 9th Most Common Venue  \\\n",
       "0           Pizza Place                       Café            Shoe Store   \n",
       "1        Ice Cream Shop                 Restaurant  Caribbean Restaurant   \n",
       "2                   Gym                    Brewery     Fish & Chips Shop   \n",
       "3        Sandwich Place  Latin American Restaurant           Pizza Place   \n",
       "4          Neighborhood               Noodle House             Nightclub   \n",
       "\n",
       "    10th Most Common Venue pcode  \n",
       "0       Salon / Barbershop   M4E  \n",
       "1                Bookstore   M4K  \n",
       "2              Snack Place   M4L  \n",
       "3                    Diner   M4M  \n",
       "4  New American Restaurant   M4N  "
      ]
     },
     "execution_count": 23,
     "metadata": {},
     "output_type": "execute_result"
    }
   ],
   "source": [
    "dumy_grp=dumy.groupby(\"pcode\").mean().reset_index()\n",
    "df_l=[]\n",
    "for hood in dumy_grp.pcode:\n",
    "    temp =dumy_grp[dumy_grp['pcode'] == hood].T.reset_index()\n",
    "    temp.columns = ['venue','freq']\n",
    "    temp = temp.iloc[1:]\n",
    "    temp['freq'] = temp['freq'].astype(float)\n",
    "    temp = temp.round({'freq': 2})\n",
    "    l=temp.sort_values('freq', ascending=False).reset_index(drop=True).head(10).venue\n",
    "    row=[]\n",
    "    for t in l:\n",
    "        row.append(t)\n",
    "    df_l.append(row)\n",
    "top10=pd.DataFrame(df_l)\n",
    "col=[]\n",
    "ind=[\"st\",\"nd\",\"rd\"]\n",
    "for i in range(10):\n",
    "    try:\n",
    "        col.append('{}{} Most Common Venue'.format(i+1, ind[i]))\n",
    "    except:\n",
    "        col.append('{}th Most Common Venue'.format(i+1))\n",
    "top10.columns=col\n",
    "top10[\"pcode\"]=dumy_grp.pcode\n",
    "top10.head()"
   ]
  },
  {
   "cell_type": "code",
   "execution_count": 25,
   "metadata": {},
   "outputs": [],
   "source": [
    "top10.to_csv(\"top10Toronto.csv\",index=False)"
   ]
  },
  {
   "cell_type": "markdown",
   "metadata": {},
   "source": [
    "# Kmeans Clustering"
   ]
  },
  {
   "cell_type": "code",
   "execution_count": 26,
   "metadata": {},
   "outputs": [],
   "source": [
    "from sklearn.cluster import KMeans\n",
    "import numpy as np\n",
    "import matplotlib.cm as cm\n",
    "import matplotlib.colors as colors"
   ]
  },
  {
   "cell_type": "code",
   "execution_count": 27,
   "metadata": {},
   "outputs": [],
   "source": [
    "kclusters=2   # the number of cluters\n",
    "X=dumy_grp.drop(\"pcode\",1)\n",
    "kmeans = KMeans(n_clusters=kclusters, random_state=0).fit(X)\n",
    "cl=kmeans.labels_  # cluster alloted"
   ]
  },
  {
   "cell_type": "code",
   "execution_count": null,
   "metadata": {},
   "outputs": [],
   "source": [
    "#Creating a DataFrame to contain the neighborhood, cluster type and geographical information."
   ]
  },
  {
   "cell_type": "code",
   "execution_count": 28,
   "metadata": {},
   "outputs": [
    {
     "data": {
      "text/html": [
       "<div>\n",
       "<style scoped>\n",
       "    .dataframe tbody tr th:only-of-type {\n",
       "        vertical-align: middle;\n",
       "    }\n",
       "\n",
       "    .dataframe tbody tr th {\n",
       "        vertical-align: top;\n",
       "    }\n",
       "\n",
       "    .dataframe thead th {\n",
       "        text-align: right;\n",
       "    }\n",
       "</style>\n",
       "<table border=\"1\" class=\"dataframe\">\n",
       "  <thead>\n",
       "    <tr style=\"text-align: right;\">\n",
       "      <th></th>\n",
       "      <th>pcode</th>\n",
       "      <th>cluster</th>\n",
       "      <th>Latitude</th>\n",
       "      <th>Longitude</th>\n",
       "    </tr>\n",
       "  </thead>\n",
       "  <tbody>\n",
       "    <tr>\n",
       "      <th>0</th>\n",
       "      <td>M4E</td>\n",
       "      <td>1</td>\n",
       "      <td>43.676357</td>\n",
       "      <td>-79.293031</td>\n",
       "    </tr>\n",
       "    <tr>\n",
       "      <th>1</th>\n",
       "      <td>M4K</td>\n",
       "      <td>1</td>\n",
       "      <td>43.679557</td>\n",
       "      <td>-79.352188</td>\n",
       "    </tr>\n",
       "    <tr>\n",
       "      <th>2</th>\n",
       "      <td>M4L</td>\n",
       "      <td>1</td>\n",
       "      <td>43.668999</td>\n",
       "      <td>-79.315572</td>\n",
       "    </tr>\n",
       "    <tr>\n",
       "      <th>3</th>\n",
       "      <td>M4M</td>\n",
       "      <td>1</td>\n",
       "      <td>43.659526</td>\n",
       "      <td>-79.340923</td>\n",
       "    </tr>\n",
       "    <tr>\n",
       "      <th>4</th>\n",
       "      <td>M4N</td>\n",
       "      <td>0</td>\n",
       "      <td>43.728020</td>\n",
       "      <td>-79.388790</td>\n",
       "    </tr>\n",
       "  </tbody>\n",
       "</table>\n",
       "</div>"
      ],
      "text/plain": [
       "  pcode  cluster   Latitude  Longitude\n",
       "0   M4E        1  43.676357 -79.293031\n",
       "1   M4K        1  43.679557 -79.352188\n",
       "2   M4L        1  43.668999 -79.315572\n",
       "3   M4M        1  43.659526 -79.340923\n",
       "4   M4N        0  43.728020 -79.388790"
      ]
     },
     "execution_count": 28,
     "metadata": {},
     "output_type": "execute_result"
    }
   ],
   "source": [
    "clust_df=dumy_grp[\"pcode\"].reset_index().assign(cluster=list(cl)).drop(\"index\",1)\n",
    "clust_df_geo=clust_df.merge(tor_geo,left_on=\"pcode\",right_on=\"Postal Code\").drop(\"Postal Code\",1)\n",
    "clust_df_geo.head()"
   ]
  },
  {
   "cell_type": "markdown",
   "metadata": {},
   "source": [
    "# Visualizing Cluster on Map"
   ]
  },
  {
   "cell_type": "code",
   "execution_count": 29,
   "metadata": {},
   "outputs": [
    {
     "data": {
      "text/html": [
       "<div style=\"width:100%;\"><div style=\"position:relative;width:100%;height:0;padding-bottom:60%;\"><iframe src=\"data:text/html;charset=utf-8;base64,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\" style=\"position:absolute;width:100%;height:100%;left:0;top:0;border:none !important;\" allowfullscreen webkitallowfullscreen mozallowfullscreen></iframe></div></div>"
      ],
      "text/plain": [
       "<folium.folium.Map at 0xd2e1438>"
      ]
     },
     "execution_count": 29,
     "metadata": {},
     "output_type": "execute_result"
    }
   ],
   "source": [
    "# create map\n",
    "map_clusters = folium.Map(location=[clust_df_geo.Latitude.mean(), clust_df_geo.Longitude.mean()], zoom_start=12)\n",
    "\n",
    "# set color scheme for the clusters\n",
    "x = np.arange(kclusters)\n",
    "ys = [i + x + (i*x)**2 for i in range(kclusters)]\n",
    "colors_array = cm.rainbow(np.linspace(0, 1, len(ys)))\n",
    "rainbow = [colors.rgb2hex(i) for i in colors_array]\n",
    "# add markers to the map\n",
    "markers_colors = []\n",
    "for lat, lon, code, cl in zip(clust_df_geo['Latitude'], clust_df_geo['Longitude'], clust_df_geo['pcode'], clust_df_geo['cluster']):\n",
    "    label = folium.Popup(str(code) + ' Cluster ' + str(cl), parse_html=True)\n",
    "    folium.CircleMarker(\n",
    "        [lat, lon],\n",
    "        radius=8,\n",
    "        popup=label,\n",
    "        color=\"black\",\n",
    "        fill=True,\n",
    "        fill_color=rainbow[cl-1],\n",
    "        fill_opacity=0.9).add_to(map_clusters)\n",
    "       \n",
    "map_clusters"
   ]
  },
  {
   "cell_type": "markdown",
   "metadata": {},
   "source": [
    "# Explore Groups"
   ]
  },
  {
   "cell_type": "code",
   "execution_count": null,
   "metadata": {},
   "outputs": [],
   "source": [
    "#Creating a DataFrame to contain Neighborhood , cluster and the top 10 venue category."
   ]
  },
  {
   "cell_type": "code",
   "execution_count": 30,
   "metadata": {},
   "outputs": [],
   "source": [
    "clust_top10=clust_df.merge(top10,left_on=\"pcode\",right_on=\"pcode\").groupby(\"cluster\")"
   ]
  },
  {
   "cell_type": "code",
   "execution_count": 33,
   "metadata": {},
   "outputs": [
    {
     "name": "stdout",
     "output_type": "stream",
     "text": [
      "cluster:1\n",
      "*******************************************\n",
      "   pcode  cluster       1st Most Common Venue 2nd Most Common Venue  \\\n",
      "4    M4N        0  Construction & Landscaping      Business Service   \n",
      "8    M4T        0                        Park         Grocery Store   \n",
      "10   M4W        0                        Park            Playground   \n",
      "\n",
      "   3rd Most Common Venue 4th Most Common Venue 5th Most Common Venue  \\\n",
      "4               Bus Line           Swim School                  Park   \n",
      "8                    Gym                  Bank       Thai Restaurant   \n",
      "10                 Trail                   ATM           Music Venue   \n",
      "\n",
      "   6th Most Common Venue 7th Most Common Venue    8th Most Common Venue  \\\n",
      "4                    ATM          Neighborhood             Noodle House   \n",
      "8           Tennis Court            Playground            Movie Theater   \n",
      "10          Noodle House             Nightclub  New American Restaurant   \n",
      "\n",
      "   9th Most Common Venue   10th Most Common Venue  \n",
      "4              Nightclub  New American Restaurant  \n",
      "8                 Museum             Music School  \n",
      "10          Neighborhood               Nail Salon  \n",
      "cluster:2\n",
      "*******************************************\n",
      "  pcode  cluster 1st Most Common Venue 2nd Most Common Venue  \\\n",
      "0   M4E        1                   Pub                   Bar   \n",
      "1   M4K        1      Greek Restaurant           Coffee Shop   \n",
      "2   M4L        1     Indian Restaurant        Sandwich Place   \n",
      "3   M4M        1                  Café                Bakery   \n",
      "5   M4P        1                  Park                   Gym   \n",
      "\n",
      "  3rd Most Common Venue 4th Most Common Venue 5th Most Common Venue  \\\n",
      "0        Breakfast Spot        Sandwich Place             Gastropub   \n",
      "1                   Pub         Grocery Store                  Café   \n",
      "2           Coffee Shop  Fast Food Restaurant                  Café   \n",
      "3           Coffee Shop                   Bar   American Restaurant   \n",
      "5        Sandwich Place         Deli / Bodega     Food & Drink Shop   \n",
      "\n",
      "  6th Most Common Venue 7th Most Common Venue      8th Most Common Venue  \\\n",
      "0     Health Food Store           Pizza Place                       Café   \n",
      "1  Fast Food Restaurant        Ice Cream Shop                 Restaurant   \n",
      "2                  Park                   Gym                    Brewery   \n",
      "3    Italian Restaurant        Sandwich Place  Latin American Restaurant   \n",
      "5      Sushi Restaurant            Taco Place                       Café   \n",
      "\n",
      "  9th Most Common Venue 10th Most Common Venue  \n",
      "0            Shoe Store     Salon / Barbershop  \n",
      "1  Caribbean Restaurant              Bookstore  \n",
      "2     Fish & Chips Shop            Snack Place  \n",
      "3           Pizza Place                  Diner  \n",
      "5               Dog Run         Breakfast Spot  \n"
     ]
    }
   ],
   "source": [
    "for i in range(kclusters):\n",
    "    temp=clust_top10.get_group(i)\n",
    "    print(\"cluster:{}\".format(i+1))\n",
    "    print(\"*******************************************\")\n",
    "    print(temp.head())\n",
    "    "
   ]
  },
  {
   "cell_type": "code",
   "execution_count": null,
   "metadata": {},
   "outputs": [],
   "source": []
  }
 ],
 "metadata": {
  "kernelspec": {
   "display_name": "Python 3",
   "language": "python",
   "name": "python3"
  },
  "language_info": {
   "codemirror_mode": {
    "name": "ipython",
    "version": 3
   },
   "file_extension": ".py",
   "mimetype": "text/x-python",
   "name": "python",
   "nbconvert_exporter": "python",
   "pygments_lexer": "ipython3",
   "version": "3.7.3"
  }
 },
 "nbformat": 4,
 "nbformat_minor": 2
}
